{
 "cells": [
  {
   "cell_type": "markdown",
   "metadata": {},
   "source": [
    "# Data Science and Visualization (RUC F2024)\n",
    "\n",
    "## Miniproject Report"
   ]
  },
  {
   "cell_type": "markdown",
   "metadata": {},
   "source": [
    "## Remarks:\n",
    "\n",
    "1. This template serves as a guideline for structuring your miniproject report. You're supposed to follow the provided sections overall, but you're allowed to make changes or adjustments whenever it's appropriate for your particular project. \n",
    "\n",
    "    * For example, in each section provided below, you may use many cells instead of just one. \n",
    "\n",
    "    * You may also add subsections if you want. If necessary, you can also add or remove sections.\n",
    "\n",
    "\n",
    "2. You should rename this notebook file to 'Group_xxx_report.ipynb' where 'xxx' is your group number in our [padlet] (https://padlet.com/luhua/dsv-f24-mini-project-group-formation-6rhpxxi0tamun2ip). This notebook should be submitted to Digital Exam in time.\n",
    "\n",
    "3. Make sure the data you use is available somewhere and accessible to the examiner and censor. You may upload your data together with this report to Digital Exam, or put it online and provide the URL to it in this report. It's your own responsibility to ensure the data accessibility. \n",
    "\n",
    "4. Any text in '[ ]' throughout the template should be replaced by appropriate content that you're supposed to generate. Also remember to remove the pairs of '[' and ']' in the final report. \n",
    "\n",
    "5. Give sufficient descriptive and explanative information by using Markdown cells and/or comments in Python code.\n",
    "\n",
    "6. Remove this cell in the final report.\n",
    "\n",
    "7. If you have questions, please email to luhua@ruc.dk."
   ]
  },
  {
   "cell_type": "markdown",
   "metadata": {},
   "source": [
    "## Project Title: [Decide a good title for your project and write it here]\n",
    "\n",
    "## Group Members:\n",
    "* Mustafa Berkan Yikilmaz, Computer Science, 2024, stud-mby@ruc.dk\n",
    "* Kaoutar Mesbahi, Bioprocess Science, 2024, stud-mesbahi@ruc.dk\n",
    "* Berkin Kagan Ates, Computer Science, 2024, stud-berkin@ruc.dk"
   ]
  },
  {
   "cell_type": "markdown",
   "metadata": {},
   "source": [
    "## Abstract\n",
    "\n",
    "[Here, you need to write ~5 sentences to describe the main points of your project, including but not limited to, dataset, research questions, data science methods, findings from the data, your condlusions and remarks.]"
   ]
  },
  {
   "cell_type": "markdown",
   "metadata": {},
   "source": [
    "## 0. Setup and Data\n",
    "\n",
    "Import the modules needed for the project."
   ]
  },
  {
   "cell_type": "code",
   "execution_count": 79,
   "metadata": {},
   "outputs": [],
   "source": [
    "import pandas as pd\n",
    "import numpy as np\n",
    "import matplotlib.pyplot as plt\n",
    "import seaborn as sns\n",
    "from sklearn.tree import DecisionTreeClassifier # Import Decision Tree Classifier\n",
    "from sklearn.model_selection import train_test_split # Import train_test_split function\n",
    "from sklearn import metrics #Import scikit-learn metrics module for accuracy calculati"
   ]
  },
  {
   "cell_type": "markdown",
   "metadata": {},
   "source": [
    "### Data description:\n",
    "We found this data in a website named Kaggle. We reckon that this data might be proper for predicting to future data and execute all topics we covered during the classes.\n",
    "\n",
    "The heart attack datasets were gathered from January to May 2019 at the Zheen Hospital in Erbil, Iraq. This dataset contains the following attributes: blood sugar, ck-mb, age, gender, heart rate, systolic and diastolic blood pressure, and troponin with positive or negative output. Depending on the information supplied, the medical dataset categorises heart attacks as either none or one. The data's gender column is normalised, with 1 representing male and 0 representing female. If it exceeds 120, the glucose column is set to 1; if not, it is set to 0. Positive is set to 1 and adverse to 0 in the output."
   ]
  },
  {
   "cell_type": "markdown",
   "metadata": {},
   "source": [
    "## 1. Loading the Data\n",
    "\n",
    "[Below you should load the data, display a part of the data, show the shape (number of rows and that of columns) of the data, and show the statistics of the data.]"
   ]
  },
  {
   "cell_type": "code",
   "execution_count": 5,
   "metadata": {},
   "outputs": [
    {
     "data": {
      "text/html": [
       "<div>\n",
       "<style scoped>\n",
       "    .dataframe tbody tr th:only-of-type {\n",
       "        vertical-align: middle;\n",
       "    }\n",
       "\n",
       "    .dataframe tbody tr th {\n",
       "        vertical-align: top;\n",
       "    }\n",
       "\n",
       "    .dataframe thead th {\n",
       "        text-align: right;\n",
       "    }\n",
       "</style>\n",
       "<table border=\"1\" class=\"dataframe\">\n",
       "  <thead>\n",
       "    <tr style=\"text-align: right;\">\n",
       "      <th></th>\n",
       "      <th>Age</th>\n",
       "      <th>Gender</th>\n",
       "      <th>Heart rate</th>\n",
       "      <th>Systolic blood pressure</th>\n",
       "      <th>Diastolic blood pressure</th>\n",
       "      <th>Blood sugar</th>\n",
       "      <th>CK-MB</th>\n",
       "      <th>Troponin</th>\n",
       "      <th>Result</th>\n",
       "    </tr>\n",
       "  </thead>\n",
       "  <tbody>\n",
       "    <tr>\n",
       "      <th>0</th>\n",
       "      <td>63</td>\n",
       "      <td>1</td>\n",
       "      <td>66</td>\n",
       "      <td>160</td>\n",
       "      <td>83</td>\n",
       "      <td>160.0</td>\n",
       "      <td>1.80</td>\n",
       "      <td>0.012</td>\n",
       "      <td>negative</td>\n",
       "    </tr>\n",
       "    <tr>\n",
       "      <th>1</th>\n",
       "      <td>20</td>\n",
       "      <td>1</td>\n",
       "      <td>94</td>\n",
       "      <td>98</td>\n",
       "      <td>46</td>\n",
       "      <td>296.0</td>\n",
       "      <td>6.75</td>\n",
       "      <td>1.060</td>\n",
       "      <td>positive</td>\n",
       "    </tr>\n",
       "    <tr>\n",
       "      <th>2</th>\n",
       "      <td>56</td>\n",
       "      <td>1</td>\n",
       "      <td>64</td>\n",
       "      <td>160</td>\n",
       "      <td>77</td>\n",
       "      <td>270.0</td>\n",
       "      <td>1.99</td>\n",
       "      <td>0.003</td>\n",
       "      <td>negative</td>\n",
       "    </tr>\n",
       "    <tr>\n",
       "      <th>3</th>\n",
       "      <td>66</td>\n",
       "      <td>1</td>\n",
       "      <td>70</td>\n",
       "      <td>120</td>\n",
       "      <td>55</td>\n",
       "      <td>270.0</td>\n",
       "      <td>13.87</td>\n",
       "      <td>0.122</td>\n",
       "      <td>positive</td>\n",
       "    </tr>\n",
       "    <tr>\n",
       "      <th>4</th>\n",
       "      <td>54</td>\n",
       "      <td>1</td>\n",
       "      <td>64</td>\n",
       "      <td>112</td>\n",
       "      <td>65</td>\n",
       "      <td>300.0</td>\n",
       "      <td>1.08</td>\n",
       "      <td>0.003</td>\n",
       "      <td>negative</td>\n",
       "    </tr>\n",
       "  </tbody>\n",
       "</table>\n",
       "</div>"
      ],
      "text/plain": [
       "   Age  Gender  Heart rate  Systolic blood pressure  Diastolic blood pressure  \\\n",
       "0   63       1          66                      160                        83   \n",
       "1   20       1          94                       98                        46   \n",
       "2   56       1          64                      160                        77   \n",
       "3   66       1          70                      120                        55   \n",
       "4   54       1          64                      112                        65   \n",
       "\n",
       "   Blood sugar  CK-MB  Troponin    Result  \n",
       "0        160.0   1.80     0.012  negative  \n",
       "1        296.0   6.75     1.060  positive  \n",
       "2        270.0   1.99     0.003  negative  \n",
       "3        270.0  13.87     0.122  positive  \n",
       "4        300.0   1.08     0.003  negative  "
      ]
     },
     "execution_count": 5,
     "metadata": {},
     "output_type": "execute_result"
    }
   ],
   "source": [
    "data = pd.read_csv('Medicaldataset.csv')\n",
    "\n",
    "data.head()"
   ]
  },
  {
   "cell_type": "markdown",
   "metadata": {},
   "source": [
    "Age: Age of the patient (integer).\n",
    "\n",
    "Gender: Gender of the patient, encoded as integers (likely 1 for male and 0 for female).\n",
    "\n",
    "Heart rate: Heart rate of the patient (integer).\n",
    "\n",
    "Systolic blood pressure: Top number in a blood pressure reading (integer).\n",
    "\n",
    "Diastolic blood pressure: Bottom number in a blood pressure reading (integer).\n",
    "\n",
    "Blood sugar: Blood sugar levels (float).\n",
    "\n",
    "CK-MB: Creatine kinase MB, an enzyme found in the heart muscle (float).\n",
    "\n",
    "Troponin: A group of proteins that help regulate the contraction of the heart muscle (float).\n",
    "\n",
    "Result: The outcome for the patient ('positive' or 'negative' for heart issues)."
   ]
  },
  {
   "cell_type": "code",
   "execution_count": 80,
   "metadata": {},
   "outputs": [
    {
     "data": {
      "text/html": [
       "<div>\n",
       "<style scoped>\n",
       "    .dataframe tbody tr th:only-of-type {\n",
       "        vertical-align: middle;\n",
       "    }\n",
       "\n",
       "    .dataframe tbody tr th {\n",
       "        vertical-align: top;\n",
       "    }\n",
       "\n",
       "    .dataframe thead th {\n",
       "        text-align: right;\n",
       "    }\n",
       "</style>\n",
       "<table border=\"1\" class=\"dataframe\">\n",
       "  <thead>\n",
       "    <tr style=\"text-align: right;\">\n",
       "      <th></th>\n",
       "      <th>Age</th>\n",
       "      <th>Gender</th>\n",
       "      <th>Heart rate</th>\n",
       "      <th>Systolic blood pressure</th>\n",
       "      <th>Diastolic blood pressure</th>\n",
       "      <th>Blood sugar</th>\n",
       "      <th>CK-MB</th>\n",
       "      <th>Troponin</th>\n",
       "      <th>Result</th>\n",
       "    </tr>\n",
       "  </thead>\n",
       "  <tbody>\n",
       "    <tr>\n",
       "      <th>1314</th>\n",
       "      <td>44</td>\n",
       "      <td>1</td>\n",
       "      <td>94</td>\n",
       "      <td>122</td>\n",
       "      <td>67</td>\n",
       "      <td>204.0</td>\n",
       "      <td>1.63</td>\n",
       "      <td>0.006</td>\n",
       "      <td>negative</td>\n",
       "    </tr>\n",
       "    <tr>\n",
       "      <th>1315</th>\n",
       "      <td>66</td>\n",
       "      <td>1</td>\n",
       "      <td>84</td>\n",
       "      <td>125</td>\n",
       "      <td>55</td>\n",
       "      <td>149.0</td>\n",
       "      <td>1.33</td>\n",
       "      <td>0.172</td>\n",
       "      <td>positive</td>\n",
       "    </tr>\n",
       "    <tr>\n",
       "      <th>1316</th>\n",
       "      <td>45</td>\n",
       "      <td>1</td>\n",
       "      <td>85</td>\n",
       "      <td>168</td>\n",
       "      <td>104</td>\n",
       "      <td>96.0</td>\n",
       "      <td>1.24</td>\n",
       "      <td>4.250</td>\n",
       "      <td>positive</td>\n",
       "    </tr>\n",
       "    <tr>\n",
       "      <th>1317</th>\n",
       "      <td>54</td>\n",
       "      <td>1</td>\n",
       "      <td>58</td>\n",
       "      <td>117</td>\n",
       "      <td>68</td>\n",
       "      <td>443.0</td>\n",
       "      <td>5.80</td>\n",
       "      <td>0.359</td>\n",
       "      <td>positive</td>\n",
       "    </tr>\n",
       "    <tr>\n",
       "      <th>1318</th>\n",
       "      <td>51</td>\n",
       "      <td>1</td>\n",
       "      <td>94</td>\n",
       "      <td>157</td>\n",
       "      <td>79</td>\n",
       "      <td>134.0</td>\n",
       "      <td>50.89</td>\n",
       "      <td>1.770</td>\n",
       "      <td>positive</td>\n",
       "    </tr>\n",
       "  </tbody>\n",
       "</table>\n",
       "</div>"
      ],
      "text/plain": [
       "      Age  Gender  Heart rate  Systolic blood pressure  \\\n",
       "1314   44       1          94                      122   \n",
       "1315   66       1          84                      125   \n",
       "1316   45       1          85                      168   \n",
       "1317   54       1          58                      117   \n",
       "1318   51       1          94                      157   \n",
       "\n",
       "      Diastolic blood pressure  Blood sugar  CK-MB  Troponin    Result  \n",
       "1314                        67        204.0   1.63     0.006  negative  \n",
       "1315                        55        149.0   1.33     0.172  positive  \n",
       "1316                       104         96.0   1.24     4.250  positive  \n",
       "1317                        68        443.0   5.80     0.359  positive  \n",
       "1318                        79        134.0  50.89     1.770  positive  "
      ]
     },
     "execution_count": 80,
     "metadata": {},
     "output_type": "execute_result"
    }
   ],
   "source": [
    "# Displaying the last part of our data\n",
    "data.tail()"
   ]
  },
  {
   "cell_type": "code",
   "execution_count": 69,
   "metadata": {},
   "outputs": [
    {
     "data": {
      "text/plain": [
       "(1319, 9)"
      ]
     },
     "execution_count": 69,
     "metadata": {},
     "output_type": "execute_result"
    }
   ],
   "source": [
    "data.shape"
   ]
  },
  {
   "cell_type": "code",
   "execution_count": 9,
   "metadata": {},
   "outputs": [
    {
     "name": "stdout",
     "output_type": "stream",
     "text": [
      "<class 'pandas.core.frame.DataFrame'>\n",
      "RangeIndex: 1319 entries, 0 to 1318\n",
      "Data columns (total 9 columns):\n",
      " #   Column                    Non-Null Count  Dtype  \n",
      "---  ------                    --------------  -----  \n",
      " 0   Age                       1319 non-null   int64  \n",
      " 1   Gender                    1319 non-null   int64  \n",
      " 2   Heart rate                1319 non-null   int64  \n",
      " 3   Systolic blood pressure   1319 non-null   int64  \n",
      " 4   Diastolic blood pressure  1319 non-null   int64  \n",
      " 5   Blood sugar               1319 non-null   float64\n",
      " 6   CK-MB                     1319 non-null   float64\n",
      " 7   Troponin                  1319 non-null   float64\n",
      " 8   Result                    1319 non-null   object \n",
      "dtypes: float64(3), int64(5), object(1)\n",
      "memory usage: 92.9+ KB\n"
     ]
    }
   ],
   "source": [
    "data.info()"
   ]
  },
  {
   "cell_type": "code",
   "execution_count": 81,
   "metadata": {},
   "outputs": [
    {
     "data": {
      "text/html": [
       "<div>\n",
       "<style scoped>\n",
       "    .dataframe tbody tr th:only-of-type {\n",
       "        vertical-align: middle;\n",
       "    }\n",
       "\n",
       "    .dataframe tbody tr th {\n",
       "        vertical-align: top;\n",
       "    }\n",
       "\n",
       "    .dataframe thead th {\n",
       "        text-align: right;\n",
       "    }\n",
       "</style>\n",
       "<table border=\"1\" class=\"dataframe\">\n",
       "  <thead>\n",
       "    <tr style=\"text-align: right;\">\n",
       "      <th></th>\n",
       "      <th>Age</th>\n",
       "      <th>Gender</th>\n",
       "      <th>Heart rate</th>\n",
       "      <th>Systolic blood pressure</th>\n",
       "      <th>Diastolic blood pressure</th>\n",
       "      <th>Blood sugar</th>\n",
       "      <th>CK-MB</th>\n",
       "      <th>Troponin</th>\n",
       "      <th>Result</th>\n",
       "    </tr>\n",
       "  </thead>\n",
       "  <tbody>\n",
       "    <tr>\n",
       "      <th>count</th>\n",
       "      <td>1319.000000</td>\n",
       "      <td>1319.000000</td>\n",
       "      <td>1319.000000</td>\n",
       "      <td>1319.000000</td>\n",
       "      <td>1319.000000</td>\n",
       "      <td>1319.000000</td>\n",
       "      <td>1319.000000</td>\n",
       "      <td>1319.000000</td>\n",
       "      <td>1319</td>\n",
       "    </tr>\n",
       "    <tr>\n",
       "      <th>unique</th>\n",
       "      <td>NaN</td>\n",
       "      <td>NaN</td>\n",
       "      <td>NaN</td>\n",
       "      <td>NaN</td>\n",
       "      <td>NaN</td>\n",
       "      <td>NaN</td>\n",
       "      <td>NaN</td>\n",
       "      <td>NaN</td>\n",
       "      <td>2</td>\n",
       "    </tr>\n",
       "    <tr>\n",
       "      <th>top</th>\n",
       "      <td>NaN</td>\n",
       "      <td>NaN</td>\n",
       "      <td>NaN</td>\n",
       "      <td>NaN</td>\n",
       "      <td>NaN</td>\n",
       "      <td>NaN</td>\n",
       "      <td>NaN</td>\n",
       "      <td>NaN</td>\n",
       "      <td>positive</td>\n",
       "    </tr>\n",
       "    <tr>\n",
       "      <th>freq</th>\n",
       "      <td>NaN</td>\n",
       "      <td>NaN</td>\n",
       "      <td>NaN</td>\n",
       "      <td>NaN</td>\n",
       "      <td>NaN</td>\n",
       "      <td>NaN</td>\n",
       "      <td>NaN</td>\n",
       "      <td>NaN</td>\n",
       "      <td>810</td>\n",
       "    </tr>\n",
       "    <tr>\n",
       "      <th>mean</th>\n",
       "      <td>56.193328</td>\n",
       "      <td>0.659591</td>\n",
       "      <td>78.336619</td>\n",
       "      <td>127.170584</td>\n",
       "      <td>72.269143</td>\n",
       "      <td>146.634344</td>\n",
       "      <td>15.274306</td>\n",
       "      <td>0.360942</td>\n",
       "      <td>NaN</td>\n",
       "    </tr>\n",
       "    <tr>\n",
       "      <th>std</th>\n",
       "      <td>13.638173</td>\n",
       "      <td>0.474027</td>\n",
       "      <td>51.630270</td>\n",
       "      <td>26.122720</td>\n",
       "      <td>14.033924</td>\n",
       "      <td>74.923045</td>\n",
       "      <td>46.327083</td>\n",
       "      <td>1.154568</td>\n",
       "      <td>NaN</td>\n",
       "    </tr>\n",
       "    <tr>\n",
       "      <th>min</th>\n",
       "      <td>14.000000</td>\n",
       "      <td>0.000000</td>\n",
       "      <td>20.000000</td>\n",
       "      <td>42.000000</td>\n",
       "      <td>38.000000</td>\n",
       "      <td>35.000000</td>\n",
       "      <td>0.321000</td>\n",
       "      <td>0.001000</td>\n",
       "      <td>NaN</td>\n",
       "    </tr>\n",
       "    <tr>\n",
       "      <th>25%</th>\n",
       "      <td>47.000000</td>\n",
       "      <td>0.000000</td>\n",
       "      <td>64.000000</td>\n",
       "      <td>110.000000</td>\n",
       "      <td>62.000000</td>\n",
       "      <td>98.000000</td>\n",
       "      <td>1.655000</td>\n",
       "      <td>0.006000</td>\n",
       "      <td>NaN</td>\n",
       "    </tr>\n",
       "    <tr>\n",
       "      <th>50%</th>\n",
       "      <td>58.000000</td>\n",
       "      <td>1.000000</td>\n",
       "      <td>74.000000</td>\n",
       "      <td>124.000000</td>\n",
       "      <td>72.000000</td>\n",
       "      <td>116.000000</td>\n",
       "      <td>2.850000</td>\n",
       "      <td>0.014000</td>\n",
       "      <td>NaN</td>\n",
       "    </tr>\n",
       "    <tr>\n",
       "      <th>75%</th>\n",
       "      <td>65.000000</td>\n",
       "      <td>1.000000</td>\n",
       "      <td>85.000000</td>\n",
       "      <td>143.000000</td>\n",
       "      <td>81.000000</td>\n",
       "      <td>169.500000</td>\n",
       "      <td>5.805000</td>\n",
       "      <td>0.085500</td>\n",
       "      <td>NaN</td>\n",
       "    </tr>\n",
       "    <tr>\n",
       "      <th>max</th>\n",
       "      <td>103.000000</td>\n",
       "      <td>1.000000</td>\n",
       "      <td>1111.000000</td>\n",
       "      <td>223.000000</td>\n",
       "      <td>154.000000</td>\n",
       "      <td>541.000000</td>\n",
       "      <td>300.000000</td>\n",
       "      <td>10.300000</td>\n",
       "      <td>NaN</td>\n",
       "    </tr>\n",
       "  </tbody>\n",
       "</table>\n",
       "</div>"
      ],
      "text/plain": [
       "                Age       Gender   Heart rate  Systolic blood pressure  \\\n",
       "count   1319.000000  1319.000000  1319.000000              1319.000000   \n",
       "unique          NaN          NaN          NaN                      NaN   \n",
       "top             NaN          NaN          NaN                      NaN   \n",
       "freq            NaN          NaN          NaN                      NaN   \n",
       "mean      56.193328     0.659591    78.336619               127.170584   \n",
       "std       13.638173     0.474027    51.630270                26.122720   \n",
       "min       14.000000     0.000000    20.000000                42.000000   \n",
       "25%       47.000000     0.000000    64.000000               110.000000   \n",
       "50%       58.000000     1.000000    74.000000               124.000000   \n",
       "75%       65.000000     1.000000    85.000000               143.000000   \n",
       "max      103.000000     1.000000  1111.000000               223.000000   \n",
       "\n",
       "        Diastolic blood pressure  Blood sugar        CK-MB     Troponin  \\\n",
       "count                1319.000000  1319.000000  1319.000000  1319.000000   \n",
       "unique                       NaN          NaN          NaN          NaN   \n",
       "top                          NaN          NaN          NaN          NaN   \n",
       "freq                         NaN          NaN          NaN          NaN   \n",
       "mean                   72.269143   146.634344    15.274306     0.360942   \n",
       "std                    14.033924    74.923045    46.327083     1.154568   \n",
       "min                    38.000000    35.000000     0.321000     0.001000   \n",
       "25%                    62.000000    98.000000     1.655000     0.006000   \n",
       "50%                    72.000000   116.000000     2.850000     0.014000   \n",
       "75%                    81.000000   169.500000     5.805000     0.085500   \n",
       "max                   154.000000   541.000000   300.000000    10.300000   \n",
       "\n",
       "          Result  \n",
       "count       1319  \n",
       "unique         2  \n",
       "top     positive  \n",
       "freq         810  \n",
       "mean         NaN  \n",
       "std          NaN  \n",
       "min          NaN  \n",
       "25%          NaN  \n",
       "50%          NaN  \n",
       "75%          NaN  \n",
       "max          NaN  "
      ]
     },
     "execution_count": 81,
     "metadata": {},
     "output_type": "execute_result"
    }
   ],
   "source": [
    "data.describe(include = 'all')"
   ]
  },
  {
   "cell_type": "markdown",
   "metadata": {},
   "source": [
    "As it can be seen above, patients' ages range between 14 to 103, with the mean of around 56.193328. "
   ]
  },
  {
   "cell_type": "markdown",
   "metadata": {},
   "source": [
    "Extremities:"
   ]
  },
  {
   "cell_type": "code",
   "execution_count": 46,
   "metadata": {},
   "outputs": [
    {
     "data": {
      "text/plain": [
       "63      1111\n",
       "717     1111\n",
       "1069    1111\n",
       "21       135\n",
       "682      135\n",
       "1012     135\n",
       "346      134\n",
       "842      134\n",
       "1213     134\n",
       "457      132\n",
       "Name: Heart rate, dtype: int64"
      ]
     },
     "execution_count": 46,
     "metadata": {},
     "output_type": "execute_result"
    }
   ],
   "source": [
    "data['Heart rate'].nlargest(10)"
   ]
  },
  {
   "cell_type": "code",
   "execution_count": 66,
   "metadata": {},
   "outputs": [
    {
     "data": {
      "text/plain": [
       "7       300.00\n",
       "28      300.00\n",
       "82      300.00\n",
       "97      300.00\n",
       "103     300.00\n",
       "185     300.00\n",
       "393     300.00\n",
       "451     300.00\n",
       "472     300.00\n",
       "651     300.00\n",
       "732     300.00\n",
       "741     300.00\n",
       "924     300.00\n",
       "997     300.00\n",
       "1047    300.00\n",
       "1209    300.00\n",
       "1215    300.00\n",
       "1259    300.00\n",
       "1280    300.00\n",
       "677     297.50\n",
       "187     286.90\n",
       "445     266.30\n",
       "144     264.40\n",
       "1249    261.00\n",
       "607     259.70\n",
       "682     254.40\n",
       "794     251.40\n",
       "972     247.80\n",
       "706     217.50\n",
       "920     208.60\n",
       "429     207.50\n",
       "809     201.70\n",
       "806     190.70\n",
       "427     185.10\n",
       "783     177.90\n",
       "101     165.10\n",
       "435     165.00\n",
       "617     147.40\n",
       "808     144.90\n",
       "530     142.60\n",
       "239     134.70\n",
       "946     111.00\n",
       "878     107.30\n",
       "328     104.30\n",
       "236     101.90\n",
       "1151     99.62\n",
       "277      99.56\n",
       "221      98.48\n",
       "114      96.08\n",
       "509      96.08\n",
       "Name: CK-MB, dtype: float64"
      ]
     },
     "execution_count": 66,
     "metadata": {},
     "output_type": "execute_result"
    }
   ],
   "source": [
    "data['CK-MB'].nlargest(50)"
   ]
  },
  {
   "cell_type": "code",
   "execution_count": 55,
   "metadata": {},
   "outputs": [
    {
     "data": {
      "text/plain": [
       "988     10.30\n",
       "29      10.00\n",
       "753     10.00\n",
       "1003    10.00\n",
       "1028    10.00\n",
       "1048    10.00\n",
       "1094    10.00\n",
       "1252    10.00\n",
       "1310    10.00\n",
       "475      9.11\n",
       "30       8.30\n",
       "113      7.67\n",
       "89       6.05\n",
       "935      6.01\n",
       "796      5.87\n",
       "Name: Troponin, dtype: float64"
      ]
     },
     "execution_count": 55,
     "metadata": {},
     "output_type": "execute_result"
    }
   ],
   "source": [
    "data['Troponin'].nlargest(15)"
   ]
  },
  {
   "cell_type": "code",
   "execution_count": null,
   "metadata": {},
   "outputs": [],
   "source": []
  },
  {
   "cell_type": "markdown",
   "metadata": {},
   "source": [
    "In the dataset, 509 patients are negative while 810 of them are positive:"
   ]
  },
  {
   "cell_type": "code",
   "execution_count": 36,
   "metadata": {},
   "outputs": [
    {
     "data": {
      "text/plain": [
       "Result\n",
       "negative    509\n",
       "positive    810\n",
       "dtype: int64"
      ]
     },
     "execution_count": 36,
     "metadata": {},
     "output_type": "execute_result"
    }
   ],
   "source": [
    "data.groupby('Result').size()"
   ]
  },
  {
   "cell_type": "code",
   "execution_count": null,
   "metadata": {},
   "outputs": [],
   "source": []
  },
  {
   "cell_type": "markdown",
   "metadata": {},
   "source": [
    "## 2. Data Preprocessing\n",
    "\n",
    "[Below you should handle the missing values, convert data types, apply data scaling and so on, if any of them is needed.]"
   ]
  },
  {
   "cell_type": "markdown",
   "metadata": {},
   "source": [
    "There is no missing value in the data. Therefore, there is no need to do preprocessing to handle missing values."
   ]
  },
  {
   "cell_type": "code",
   "execution_count": 83,
   "metadata": {},
   "outputs": [
    {
     "data": {
      "text/plain": [
       "Age                         0\n",
       "Gender                      0\n",
       "Heart rate                  0\n",
       "Systolic blood pressure     0\n",
       "Diastolic blood pressure    0\n",
       "Blood sugar                 0\n",
       "CK-MB                       0\n",
       "Troponin                    0\n",
       "Result                      0\n",
       "dtype: int64"
      ]
     },
     "execution_count": 83,
     "metadata": {},
     "output_type": "execute_result"
    }
   ],
   "source": [
    "data.isnull().sum()"
   ]
  },
  {
   "cell_type": "code",
   "execution_count": 61,
   "metadata": {},
   "outputs": [
    {
     "data": {
      "text/plain": [
       "Age                         False\n",
       "Gender                      False\n",
       "Heart rate                  False\n",
       "Systolic blood pressure     False\n",
       "Diastolic blood pressure    False\n",
       "Blood sugar                 False\n",
       "CK-MB                       False\n",
       "Troponin                    False\n",
       "Result                      False\n",
       "dtype: bool"
      ]
     },
     "execution_count": 61,
     "metadata": {},
     "output_type": "execute_result"
    }
   ],
   "source": [
    "data.isna().any()"
   ]
  },
  {
   "cell_type": "markdown",
   "metadata": {},
   "source": [
    "## 3. Exploratory Data Analysis\n",
    "\n",
    "[Below you can conduct EDA of your data, e.g., ask some questions and try to answer them by accessing the data properly and making some visualizations.]"
   ]
  },
  {
   "cell_type": "markdown",
   "metadata": {},
   "source": [
    "**2. Distribution Analysis** \n",
    "Examine the distribution of various features:\n",
    "\n",
    "Histograms for continuous data like age, blood pressure, CK-MB, Troponin, and blood sugar to understand their distribution.\n",
    "Box plots to identify outliers and the spread of these measurements.\n",
    "\n",
    "**3. Correlation Analysis**\n",
    "Identify relationships between variables:\n",
    "\n",
    "Correlation matrix and heatmap to see how variables are related, e.g., how heart rate correlates with blood pressure or blood sugar levels.\n",
    "Investigate whether higher values of biomarkers like CK-MB and Troponin correlate with positive heart attack results.\n",
    "\n",
    "**4. Comparative Analysis**\n",
    "Compare different subgroups within the data:\n",
    "\n",
    "Bar charts or pie charts to compare the number of positive vs. negative heart attack cases.\n",
    "Use groupby operations to explore differences in health metrics between different ages, genders, or results (positive/negative).\n",
    "Violin plots to compare the distribution of blood pressure or heart rates across different results.\n",
    "\n",
    "**5. Time Series Analysis (if applicable)**\n",
    "If the data includes time-related information:\n",
    "\n",
    "Analyze trends over time in heart rate or blood sugar measurements.\n",
    "\n",
    "**6. Pair Plots**\n",
    "Visualize relationships between all variables to see direct comparisons:\n",
    "\n",
    "Pair plots can help in visualizing the relationship across multiple variables at once.\n",
    "\n",
    "**7. Anomaly Detection**\n",
    "Look for unusual patterns or outliers that might indicate errors or rare events:\n",
    "\n",
    "Analyze unusual values in heart rate, like the 1111 bpm case, to see if they are errors or require special attention."
   ]
  },
  {
   "cell_type": "markdown",
   "metadata": {},
   "source": [
    "When we group patients by their results, we see that their agem systoluc and diastolic blood pressures as well as blood sugar levels are very similar. However, CK-MB and Troponin levels of positive cases are very high compared to negatives."
   ]
  },
  {
   "cell_type": "code",
   "execution_count": 71,
   "metadata": {},
   "outputs": [
    {
     "data": {
      "text/html": [
       "<div>\n",
       "<style scoped>\n",
       "    .dataframe tbody tr th:only-of-type {\n",
       "        vertical-align: middle;\n",
       "    }\n",
       "\n",
       "    .dataframe tbody tr th {\n",
       "        vertical-align: top;\n",
       "    }\n",
       "\n",
       "    .dataframe thead th {\n",
       "        text-align: right;\n",
       "    }\n",
       "</style>\n",
       "<table border=\"1\" class=\"dataframe\">\n",
       "  <thead>\n",
       "    <tr style=\"text-align: right;\">\n",
       "      <th></th>\n",
       "      <th>Age</th>\n",
       "      <th>Gender</th>\n",
       "      <th>Heart rate</th>\n",
       "      <th>Systolic blood pressure</th>\n",
       "      <th>Diastolic blood pressure</th>\n",
       "      <th>Blood sugar</th>\n",
       "      <th>CK-MB</th>\n",
       "      <th>Troponin</th>\n",
       "    </tr>\n",
       "    <tr>\n",
       "      <th>Result</th>\n",
       "      <th></th>\n",
       "      <th></th>\n",
       "      <th></th>\n",
       "      <th></th>\n",
       "      <th></th>\n",
       "      <th></th>\n",
       "      <th></th>\n",
       "      <th></th>\n",
       "    </tr>\n",
       "  </thead>\n",
       "  <tbody>\n",
       "    <tr>\n",
       "      <th>negative</th>\n",
       "      <td>52.100196</td>\n",
       "      <td>0.603143</td>\n",
       "      <td>77.886051</td>\n",
       "      <td>127.856582</td>\n",
       "      <td>72.440079</td>\n",
       "      <td>149.757760</td>\n",
       "      <td>2.555344</td>\n",
       "      <td>0.026988</td>\n",
       "    </tr>\n",
       "    <tr>\n",
       "      <th>positive</th>\n",
       "      <td>58.765432</td>\n",
       "      <td>0.695062</td>\n",
       "      <td>78.619753</td>\n",
       "      <td>126.739506</td>\n",
       "      <td>72.161728</td>\n",
       "      <td>144.671605</td>\n",
       "      <td>23.266838</td>\n",
       "      <td>0.570798</td>\n",
       "    </tr>\n",
       "  </tbody>\n",
       "</table>\n",
       "</div>"
      ],
      "text/plain": [
       "                Age    Gender  Heart rate  Systolic blood pressure  \\\n",
       "Result                                                               \n",
       "negative  52.100196  0.603143   77.886051               127.856582   \n",
       "positive  58.765432  0.695062   78.619753               126.739506   \n",
       "\n",
       "          Diastolic blood pressure  Blood sugar      CK-MB  Troponin  \n",
       "Result                                                                \n",
       "negative                 72.440079   149.757760   2.555344  0.026988  \n",
       "positive                 72.161728   144.671605  23.266838  0.570798  "
      ]
     },
     "execution_count": 71,
     "metadata": {},
     "output_type": "execute_result"
    }
   ],
   "source": [
    "data.groupby('Result').mean()"
   ]
  },
  {
   "cell_type": "code",
   "execution_count": 84,
   "metadata": {},
   "outputs": [
    {
     "data": {
      "text/plain": [
       "Text(0, 0.5, '# of cases')"
      ]
     },
     "execution_count": 84,
     "metadata": {},
     "output_type": "execute_result"
    },
    {
     "data": {
      "image/png": "[encoded data removed]",
      "text/plain": [
       "<Figure size 640x480 with 1 Axes>"
      ]
     },
     "metadata": {},
     "output_type": "display_data"
    }
   ],
   "source": [
    "#1. To see how many cases had a heart attack and how many didn't\n",
    "\n",
    "plt.hist(data.Result, bins=3, color='lightblue')\n",
    "plt.title('Histogram of Results of Heart Attack ')\n",
    "\n",
    "plt.xlabel('Result')\n",
    "plt.ylabel('# of cases')\n"
   ]
  },
  {
   "cell_type": "markdown",
   "metadata": {},
   "source": [
    "Question: How are positive results distributed among different genders?"
   ]
  },
  {
   "cell_type": "code",
   "execution_count": 85,
   "metadata": {},
   "outputs": [
    {
     "data": {
      "text/plain": [
       "<matplotlib.legend.Legend at 0x2a56fa410>"
      ]
     },
     "execution_count": 85,
     "metadata": {},
     "output_type": "execute_result"
    },
    {
     "data": {
      "image/png": "[encoded data removed]",
      "text/plain": [
       "<Figure size 800x800 with 1 Axes>"
      ]
     },
     "metadata": {},
     "output_type": "display_data"
    }
   ],
   "source": [
    "# Filter the data for positive cases\n",
    "positive_cases = data[data['Result'] == 'positive']\n",
    "\n",
    "# Count the number of male and female cases among positive cases\n",
    "male_positive_cases = positive_cases[positive_cases['Gender'] == 1]\n",
    "female_positive_cases = positive_cases[positive_cases['Gender'] == 0]\n",
    "# Count the number of positive cases for each gender\n",
    "male_count = len(male_positive_cases)\n",
    "female_count = len(female_positive_cases)\n",
    "\n",
    "# Plotting the pie chart\n",
    "plt.figure(figsize=(8, 8))\n",
    "plt.pie([male_count, female_count], labels=['Male', 'Female'], autopct='%1.1f%%', startangle=90, colors=['#A7C7E7', '#F0FFFF'])\n",
    "plt.title('Distribution of Positive Cases by Gender')\n",
    "plt.legend(title= \"Gender:\", loc=\"center left\", bbox_to_anchor=(1, 0, 0.5, 1))"
   ]
  },
  {
   "cell_type": "markdown",
   "metadata": {},
   "source": [
    "Question: Is there a correlation between CK-MB, Troponin with Heart Attack Result?"
   ]
  },
  {
   "cell_type": "code",
   "execution_count": 74,
   "metadata": {},
   "outputs": [
    {
     "data": {
      "image/png": "[encoded data removed]",
      "text/plain": [
       "<Figure size 1200x600 with 1 Axes>"
      ]
     },
     "metadata": {},
     "output_type": "display_data"
    }
   ],
   "source": [
    "plt.figure(figsize=(12, 6))\n",
    "sns.scatterplot(x='CK-MB', y='Troponin', hue='Result', data=data)\n",
    "plt.title('CK-MB vs. Troponin by Heart Attack Result')\n",
    "plt.xlabel('CK-MB')\n",
    "plt.ylabel('Troponin')\n",
    "plt.legend(title='Result')\n",
    "plt.show()"
   ]
  },
  {
   "cell_type": "markdown",
   "metadata": {},
   "source": [
    "Question: What age group is most susceptible to experiencing a heart attack?"
   ]
  },
  {
   "cell_type": "code",
   "execution_count": 86,
   "metadata": {},
   "outputs": [
    {
     "data": {
      "text/plain": [
       "<matplotlib.legend.Legend at 0x2a6dcb4d0>"
      ]
     },
     "execution_count": 86,
     "metadata": {},
     "output_type": "execute_result"
    },
    {
     "data": {
      "image/png": "[encoded data removed]",
      "text/plain": [
       "<Figure size 800x1200 with 1 Axes>"
      ]
     },
     "metadata": {},
     "output_type": "display_data"
    }
   ],
   "source": [
    "# Color choice\n",
    "custom_colors = ['#F0FFFF','#82EEFD', '#52B2BF',  '#9FE2BF','#008080', '#00A36C','#006A4E' ,'#1B2F11']\n",
    "\n",
    "# We filtered the data to include only rows where the result is 'positive'\n",
    "positive_cases = data[data['Result'] == 'positive']\n",
    "\n",
    "age_bins = [0, 20, 30, 40, 50, 60, 70, 80, 103]\n",
    "age_labels = ['0-20', '21-30', '31-40', '41-50', '51-60', '61-70', '71-80', '81-103']\n",
    "age_groups = pd.cut(positive_cases['Age'], bins=age_bins, labels=age_labels)\n",
    "\n",
    "# Count the occurrences of each age group\n",
    "age_group_counts = age_groups.value_counts()\n",
    "\n",
    "# Sort the age groups\n",
    "age_group_counts_sorted = age_group_counts.sort_index()\n",
    "\n",
    "# Plotting a pie chart\n",
    "plt.figure(figsize=(8, 12))\n",
    "plt.pie(age_group_counts_sorted, labels=age_group_counts_sorted.index,startangle=45, labeldistance=1.1, colors=custom_colors)\n",
    "plt.title('Age Group Distribution of Positive Cases')\n",
    "\n",
    "# Add the total number of cases inside the pie chart\n",
    "total_cases = len(positive_cases)\n",
    "plt.text(0, 0, f'Total cases: {total_cases}', fontsize=12,color='white', ha='center')\n",
    "\n",
    "# Making the legend\n",
    "plt.legend(title= \"Age Range:\", loc=\"center left\", bbox_to_anchor=(1, 0, 0.5, 1))"
   ]
  },
  {
   "cell_type": "markdown",
   "metadata": {},
   "source": [
    "## 4. Data Modelling\n",
    "\n",
    "[Below you apply machine learning models and other data science methods to your data, e.g., classification, regression, clustering, and association rule mining. You should do at least one of them. Give a description of what you do here.]"
   ]
  },
  {
   "cell_type": "markdown",
   "metadata": {},
   "source": [
    "### 4.1. Feature Selection\n",
    "\n",
    "[Decide which features you want to use and obtain them properly from the original data.]"
   ]
  },
  {
   "cell_type": "code",
   "execution_count": null,
   "metadata": {},
   "outputs": [],
   "source": []
  },
  {
   "cell_type": "markdown",
   "metadata": {},
   "source": [
    "### 4.2 Model Construction and Validation\n",
    "\n",
    "[Construct the model and validate the model design if necessary.]"
   ]
  },
  {
   "cell_type": "code",
   "execution_count": null,
   "metadata": {},
   "outputs": [],
   "source": []
  },
  {
   "cell_type": "markdown",
   "metadata": {},
   "source": [
    "### 4.3 Model Application and Performance Evaluation\n",
    "\n",
    "[Apply the model and evaluate its performance]"
   ]
  },
  {
   "cell_type": "code",
   "execution_count": null,
   "metadata": {},
   "outputs": [],
   "source": []
  },
  {
   "cell_type": "markdown",
   "metadata": {},
   "source": [
    "### 4.4 Visualize and Analyze Your Results/Findings from Data Modelling\n",
    "\n",
    "[Here you may visualize the modeling results, and/or analyze/interprete its meanings.]"
   ]
  },
  {
   "cell_type": "code",
   "execution_count": null,
   "metadata": {},
   "outputs": [],
   "source": []
  },
  {
   "cell_type": "markdown",
   "metadata": {},
   "source": [
    "## 5. Conclusion and Discussion\n",
    "\n",
    "[Here you may draw your conclusion based on the previous sections, and discuss the pros and cons of the project, and propose something for future work.]"
   ]
  },
  {
   "cell_type": "code",
   "execution_count": null,
   "metadata": {},
   "outputs": [],
   "source": []
  }
 ],
 "metadata": {
  "kernelspec": {
   "display_name": "Python 3 (ipykernel)",
   "language": "python",
   "name": "python3"
  },
  "language_info": {
   "codemirror_mode": {
    "name": "ipython",
    "version": 3
   },
   "file_extension": ".py",
   "mimetype": "text/x-python",
   "name": "python",
   "nbconvert_exporter": "python",
   "pygments_lexer": "ipython3",
   "version": "3.11.5"
  }
 },
 "nbformat": 4,
 "nbformat_minor": 4
}
